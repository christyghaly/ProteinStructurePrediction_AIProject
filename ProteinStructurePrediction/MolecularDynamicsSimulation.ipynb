{
 "cells": [
  {
   "cell_type": "code",
   "execution_count": null,
   "metadata": {},
   "outputs": [],
   "source": [
    "conda install nglview -c conda-forge"
   ]
  },
  {
   "cell_type": "code",
   "execution_count": null,
   "metadata": {},
   "outputs": [],
   "source": [
    "#conda install pytraj -c conda-forge"
   ]
  },
  {
   "cell_type": "code",
   "execution_count": null,
   "metadata": {},
   "outputs": [],
   "source": [
    "conda install -c conda-forge openmm==7.5.0\n"
   ]
  },
  {
   "cell_type": "code",
   "execution_count": 14,
   "metadata": {},
   "outputs": [],
   "source": [
    "import nglview as nv\n",
    "#import pytraj as pt\n",
    "import random\n",
    "\n",
    "from simtk.openmm.app import *\n",
    "from simtk.openmm import *\n",
    "from simtk.unit import *\n",
    "from sys import stdout\n",
    "\n",
    "import xml.etree.ElementTree as ElementTree"
   ]
  },
  {
   "cell_type": "code",
   "execution_count": 8,
   "metadata": {},
   "outputs": [
    {
     "data": {
      "text/plain": [
       "'PMKKLKLALRLAAKIAPVW'"
      ]
     },
     "execution_count": 8,
     "metadata": {},
     "output_type": "execute_result"
    }
   ],
   "source": [
    "def load_sequence(path):\n",
    "    with open(path) as f:\n",
    "        fasta = f.read().strip()\n",
    "    return fasta.split('\\n')[-1]\n",
    "    \n",
    "seq = load_sequence('proteins/6ct4.fasta')\n",
    "seq"
   ]
  },
  {
   "cell_type": "code",
   "execution_count": 9,
   "metadata": {},
   "outputs": [],
   "source": [
    "tree = ElementTree.parse('forcefields/amber99sb.xml').getroot()\n",
    "atoms = {}\n",
    "for c in tree[1]:\n",
    "    atoms[c.attrib['name']] = [a.attrib['name'] for a in c.findall('Atom')]\n"
   ]
  },
  {
   "cell_type": "code",
   "execution_count": 10,
   "metadata": {},
   "outputs": [],
   "source": [
    "mappings = 'ala:A|arg:R|asn:N|asp:D|cys:C|gln:Q|glu:E|gly:G|his:H|ile:I|leu:L|lys:K|met:M|phe:F|pro:P|ser:S|thr:T|trp:W|tyr:Y|val:V'.upper().split('|')\n",
    "l2aa = dict([m.split(':')[::-1] for m in mappings])"
   ]
  },
  {
   "cell_type": "code",
   "execution_count": 11,
   "metadata": {},
   "outputs": [],
   "source": [
    "def write_randpos_pdb(path, aa_sequence):\n",
    "    data = ''\n",
    "    serial = 1\n",
    "    for residue_num, residue_letter in enumerate(aa_sequence):\n",
    "        residue = l2aa[residue_letter]\n",
    "        atom_names = atoms[residue].copy()\n",
    "        if residue_num == 0:\n",
    "            atom_names += ['H2', 'H3']\n",
    "        if residue_num == len(aa_sequence) - 1:\n",
    "            atom_names += ['OXT']\n",
    "        for name in atom_names:\n",
    "            rand = lambda s=0.1, off=0: (random.random() - 0.5) * 2 * s + off\n",
    "            if name == 'CA':\n",
    "                x, y, z = rand(s=0.01, off=residue_num), rand(s=0.01), rand(s=0.01)\n",
    "            else:\n",
    "                x, y, z = rand(off=residue_num), rand(), rand()\n",
    "            \n",
    "            if len(name) == 3:\n",
    "                name = ' ' + name\n",
    "            data += f'{\"ATOM\":6}{serial:5} {name:^4} {residue:3} {\"A\":1}{residue_num+1:4}    {x:8.3f}{y:8.3f}{z:8.3f}{1:6.2f}{0:6.2f}           {name.strip()[0]:2}{\"\":2}\\n'\n",
    "            serial += 1\n",
    "    with open(path, 'w') as file:\n",
    "        file.write(data)\n",
    "\n",
    "write_randpos_pdb('proteins/test.pdb', seq)"
   ]
  },
  {
   "cell_type": "code",
   "execution_count": 12,
   "metadata": {},
   "outputs": [],
   "source": [
    "from pdbfixer import PDBFixer\n",
    "from simtk.openmm.app import PDBFile\n",
    "\n",
    "def pdbfixerFunc(out_path,input_path):\n",
    "    \n",
    "    fixer = PDBFixer(filename=input_path)\n",
    "    fixer.findMissingResidues()\n",
    "    fixer.findNonstandardResidues()\n",
    "    fixer.replaceNonstandardResidues()\n",
    "    fixer.removeHeterogens(True)\n",
    "    fixer.findMissingAtoms()\n",
    "    fixer.addMissingAtoms()\n",
    "    fixer.addMissingHydrogens(7.0)\n",
    "    #fixer.addSolvent(fixer.topology.getUnitCellDimensions())\n",
    "    PDBFile.writeFile(fixer.topology, fixer.positions, open(out_path, 'w'))\n",
    "    \n",
    "    \n",
    "pdbfixerFunc('proteins/FixedFunctionOutput6ct4.pdb','proteins/test.pdb')\n",
    "    "
   ]
  },
  {
   "cell_type": "code",
   "execution_count": 13,
   "metadata": {},
   "outputs": [
    {
     "name": "stdout",
     "output_type": "stream",
     "text": [
      "<Topology; 1 chains, 19 residues, 335 atoms, 338 bonds>\n"
     ]
    }
   ],
   "source": [
    "pdb = PDBFile('proteins/FixedFunctionOutput6ct4.pdb')\n",
    "#forcefield = ForceField('amber14-all.xml', 'amber14/tip3pfb.xml')\n",
    "#forcefield = ForceField('amber99sb.xml')\n",
    "forcefield=ForceField('forcefields/amber99sb.xml','C:/Users/hp/anaconda3/envs/tensorflow/Lib/site-packages/simtk/openmm/app/data/tip3p.xml')\n",
    "\n",
    "print(pdb.topology)\n",
    "\n",
    "modeller = Modeller(pdb.topology, pdb.positions)\n",
    "modeller.addHydrogens()\n",
    "\n",
    "system = forcefield.createSystem(modeller.topology, constraints=HBonds)\n",
    "integrator = LangevinIntegrator(300*kelvin, 1/picosecond, 0.002*picoseconds)\n",
    "simulation = Simulation(modeller.topology, system, integrator)\n",
    "simulation.context.setPositions(modeller.positions)\n",
    "\n",
    "simulation.minimizeEnergy()\n",
    "\n",
    "steps = 100000\n",
    "simulation.reporters.append(PDBReporter('proteins/output.pdb',  5))\n",
    "simulation.reporters.append(StateDataReporter(stdout, 1, potentialEnergy=True, temperature=True))\n"
   ]
  },
  {
   "cell_type": "code",
   "execution_count": 12,
   "metadata": {},
   "outputs": [
    {
     "name": "stdout",
     "output_type": "stream",
     "text": [
      "#\"Potential Energy (kJ/mole)\",\"Temperature (K)\"\n",
      "10153809149952.0,694640716686.0358\n",
      "1900165070848.0,121163701824278.94\n",
      "28515795730432.0,550675716262.8588\n",
      "5929141010432.0,70982192987485.23\n",
      "16114819006464.0,92755850436302.19\n"
     ]
    }
   ],
   "source": [
    "\n",
    "simulation.step(5)"
   ]
  },
  {
   "cell_type": "code",
   "execution_count": null,
   "metadata": {},
   "outputs": [],
   "source": []
  }
 ],
 "metadata": {
  "kernelspec": {
   "display_name": "Python 3",
   "language": "python",
   "name": "python3"
  },
  "language_info": {
   "codemirror_mode": {
    "name": "ipython",
    "version": 3
   },
   "file_extension": ".py",
   "mimetype": "text/x-python",
   "name": "python",
   "nbconvert_exporter": "python",
   "pygments_lexer": "ipython3",
   "version": "3.8.8"
  }
 },
 "nbformat": 4,
 "nbformat_minor": 4
}
